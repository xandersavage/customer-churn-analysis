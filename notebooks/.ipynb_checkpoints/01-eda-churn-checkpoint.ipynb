{
 "cells": [
  {
   "cell_type": "markdown",
   "id": "3376728a",
   "metadata": {},
   "source": [
    "# 📘 Churn EDA"
   ]
  },
  {
   "cell_type": "markdown",
   "id": "4cf5674c",
   "metadata": {},
   "source": [
    "###### Objective: Identify patterns and features related to customer churn and provide 3 actionable recommendations to reduce churn."
   ]
  },
  {
   "cell_type": "markdown",
   "id": "032c07be",
   "metadata": {},
   "source": [
    "### Imports"
   ]
  },
  {
   "cell_type": "code",
   "execution_count": null,
   "id": "25229c41",
   "metadata": {},
   "outputs": [],
   "source": [
    "%matplotlib inline\n",
    "\n",
    "import pandas as pd\n",
    "import numpy as np\n",
    "import matplotlib.pyplot as plt\n",
    "import seaborn as sns\n",
    "\n",
    "sns.set(style='whitegrid', palette='muted', font_scale=1.1)"
   ]
  },
  {
   "cell_type": "markdown",
   "id": "8c51ca1a",
   "metadata": {},
   "source": [
    "### Load Data"
   ]
  },
  {
   "cell_type": "code",
   "execution_count": null,
   "id": "9142473f",
   "metadata": {},
   "outputs": [],
   "source": [
    "df = pd.read_csv(r\"C:\\Users\\Alexander Olomokoro\\Documents\\Personal Projects\\DS-ML Course\\datasets\\Churn_Modelling_With_Missing.csv\")\n",
    "df.head()"
   ]
  },
  {
   "cell_type": "markdown",
   "id": "b3c26e25",
   "metadata": {},
   "source": [
    "### Basic Info"
   ]
  },
  {
   "cell_type": "code",
   "execution_count": null,
   "id": "724c10b6",
   "metadata": {},
   "outputs": [],
   "source": [
    "print('Shape', df.shape)\n",
    "df.info()\n",
    "df.describe().T"
   ]
  },
  {
   "cell_type": "markdown",
   "id": "5c452d85",
   "metadata": {},
   "source": [
    "### Automated EDA Report (Optional but recommended)"
   ]
  },
  {
   "cell_type": "code",
   "execution_count": null,
   "id": "a5add502",
   "metadata": {},
   "outputs": [],
   "source": [
    "from ydata_profiling import ProfileReport\n",
    "# profile = ProfileReport(df, title='Churn EDA Report', explorative=True)\n",
    "# profile.to_file('churn_eda_report.html')\n",
    "\n",
    "# To see inside Jupyter:\n",
    "# profile.to_notebook_iframe()"
   ]
  },
  {
   "cell_type": "markdown",
   "id": "7ab072b6",
   "metadata": {},
   "source": [
    "### Missing Values and Duplicates"
   ]
  },
  {
   "cell_type": "code",
   "execution_count": null,
   "id": "817f829e",
   "metadata": {},
   "outputs": [],
   "source": [
    "df.isnull().sum().sort_values(ascending=False)"
   ]
  },
  {
   "cell_type": "code",
   "execution_count": null,
   "id": "7085e7c0",
   "metadata": {},
   "outputs": [],
   "source": [
    "df.duplicated().sum()"
   ]
  },
  {
   "cell_type": "code",
   "execution_count": null,
   "id": "35a06a76",
   "metadata": {},
   "outputs": [],
   "source": [
    "# Handle missing age values\n",
    "mean_age = df['Age'].mean()\n",
    "mean_age\n",
    "\n",
    "# round to nearestwhole number\n",
    "mean_age_rounded = round(mean_age)\n",
    "\n",
    "# Fill missing values in Age with rounded mean\n",
    "df.Age.fillna(mean_age_rounded, inplace=True)\n",
    "\n",
    "df.isnull().sum().sort_values(ascending=False)"
   ]
  },
  {
   "cell_type": "code",
   "execution_count": null,
   "id": "4c2b1790",
   "metadata": {},
   "outputs": [],
   "source": [
    "# Handle missing gender values\n",
    "mode_gender = df['Gender'].mode()[0]\n",
    "\n",
    "# Fill missing values with most frequent gender\n",
    "df['Gender'].fillna(mode_gender, inplace=True)\n",
    "\n",
    "df.isnull().sum().sort_values(ascending=False)"
   ]
  },
  {
   "cell_type": "markdown",
   "id": "0e7307d1",
   "metadata": {},
   "source": [
    "### Drop Useless Columns"
   ]
  },
  {
   "cell_type": "code",
   "execution_count": null,
   "id": "2198b907",
   "metadata": {},
   "outputs": [],
   "source": [
    "df_clean = df.copy()\n",
    "df_clean = df_clean.drop(columns=['RowNumber', 'CustomerId', 'Surname'])"
   ]
  },
  {
   "cell_type": "code",
   "execution_count": null,
   "id": "69492379",
   "metadata": {},
   "outputs": [],
   "source": [
    "# profile = ProfileReport(df, title='Churn EDA Report', explorative=True)\n",
    "# profile.to_file('churn_eda_report.html')"
   ]
  },
  {
   "cell_type": "markdown",
   "id": "25e37f6d",
   "metadata": {},
   "source": [
    "### Numeric Distribution"
   ]
  },
  {
   "cell_type": "code",
   "execution_count": null,
   "id": "5ab339ac",
   "metadata": {},
   "outputs": [],
   "source": [
    "num_cols = df_clean.select_dtypes(include=['int64', 'float64']).columns.tolist()\n",
    "\n",
    "for col in num_cols:\n",
    "    plt.figure(figsize=(6, 3))\n",
    "    sns.histplot(df_clean[col].dropna(), kde=True)\n",
    "    plt.title(f'Distribution of {col}')\n",
    "    plt.show()"
   ]
  },
  {
   "cell_type": "markdown",
   "id": "acd419eb",
   "metadata": {},
   "source": [
    "### Categorical Distribution"
   ]
  },
  {
   "cell_type": "code",
   "execution_count": null,
   "id": "fa11b0b1",
   "metadata": {},
   "outputs": [],
   "source": [
    "cat_cols = df_clean.select_dtypes(include=['object', 'category']).columns.tolist()\n",
    "\n",
    "for col in cat_cols:\n",
    "    plt.figure(figsize=(6,3))\n",
    "    sns.countplot(data=df_clean, x=col, order=df_clean[col].value_counts().index)\n",
    "    plt.title(f'{col} distribution')\n",
    "    plt.xticks(rotation=30)"
   ]
  },
  {
   "cell_type": "markdown",
   "id": "571886db",
   "metadata": {},
   "source": [
    "### Categorical Distribution (Plotly)"
   ]
  },
  {
   "cell_type": "code",
   "execution_count": null,
   "id": "a20b0570",
   "metadata": {},
   "outputs": [],
   "source": [
    "import plotly.express as px\n",
    "\n",
    "# Get all categorical columns\n",
    "cat_cols = df_clean.select_dtypes(include=['object', 'category']).columns.tolist()\n",
    "\n",
    "for col in cat_cols:\n",
    "    # Count values for the categorical column\n",
    "    counts = df_clean[col].value_counts().reset_index()\n",
    "    counts.columns = [col, \"Count\"]\n",
    "\n",
    "    # Create bar chart\n",
    "    fig = px.bar(\n",
    "        counts,\n",
    "        x=col,\n",
    "        y=\"Count\",\n",
    "        text=\"Count\",  # show counts on bars\n",
    "        title=f\"{col} distribution\",\n",
    "        color=col      # color bars by category\n",
    "    )\n",
    "    \n",
    "    # Rotate x-axis labels for readability\n",
    "    fig.update_layout(xaxis=dict(tickangle=30))\n",
    "    \n",
    "    # Show interactive chart\n",
    "    fig.show()\n"
   ]
  },
  {
   "cell_type": "markdown",
   "id": "87b4a888",
   "metadata": {},
   "source": [
    "### Target Distribution(Exited)"
   ]
  },
  {
   "cell_type": "code",
   "execution_count": null,
   "id": "e2507d6f",
   "metadata": {},
   "outputs": [],
   "source": [
    "import plotly.express as px\n",
    "\n",
    "# Value counts (both raw count and proportion)\n",
    "churn_counts = df_clean['Exited'].value_counts().reset_index()\n",
    "churn_counts.columns = ['Exited', 'Count']\n",
    "churn_counts['Proportion'] = churn_counts['Count'] / churn_counts['Count'].sum()\n",
    "\n",
    "# Plot with Plotly\n",
    "fig = px.bar(\n",
    "    churn_counts,\n",
    "    x='Exited',\n",
    "    y='Count',\n",
    "    text=churn_counts['Proportion'].apply(lambda p: f\"{p:.2%}\"),  # show % on bars\n",
    "    color='Exited',\n",
    "    title=\"Target Variable: Exited (Churn)\"\n",
    ")\n",
    "\n",
    "fig.update_layout(xaxis=dict(tickmode='array', tickvals=[0,1], ticktext=['Stayed (0)', 'Churned (1)']))\n",
    "fig.show()\n"
   ]
  },
  {
   "cell_type": "markdown",
   "id": "3a8d6dc9",
   "metadata": {},
   "source": [
    "### Bivariate: Categorical vs Exited"
   ]
  },
  {
   "cell_type": "code",
   "execution_count": null,
   "id": "a8ac0ea6",
   "metadata": {},
   "outputs": [],
   "source": [
    "for col in [\"Geography\", \"Gender\", \"NumOfProducts\", \"HasCrCard\", \"IsActiveMember\"]:\n",
    "    plt.figure(figsize=(6,3))\n",
    "    sns.countplot(data=df_clean, x=col, hue='Exited')\n",
    "    plt.title(f'Exited by {col}')\n",
    "    plt.show()"
   ]
  },
  {
   "cell_type": "markdown",
   "id": "c9838ddf",
   "metadata": {},
   "source": [
    "### Bivariate: Categorical vs Exited (Plotly)"
   ]
  },
  {
   "cell_type": "code",
   "execution_count": null,
   "id": "4c2070f4",
   "metadata": {},
   "outputs": [],
   "source": [
    "import plotly.express as px\n",
    "\n",
    "for col in [\"Geography\", \"Gender\", \"NumOfProducts\", \"HasCrCard\", \"IsActiveMember\"]:\n",
    "    fig = px.histogram(\n",
    "        df_clean,\n",
    "        x=col,\n",
    "        color=\"Exited\",            # this is like hue in seaborn\n",
    "        barmode=\"group\",           # side-by-side bars (use \"stack\" if you prefer stacked bars)\n",
    "        text_auto=True,            # show counts on bars\n",
    "        title=f\"Exited by {col}\"\n",
    "    )\n",
    "    fig.update_layout(\n",
    "        xaxis_title=col,\n",
    "        yaxis_title=\"Count\",\n",
    "        bargap=0.2\n",
    "    )\n",
    "    fig.show()\n"
   ]
  },
  {
   "cell_type": "markdown",
   "id": "fff778c9",
   "metadata": {},
   "source": [
    "### Bivariate: Numeric vs Exited"
   ]
  },
  {
   "cell_type": "code",
   "execution_count": null,
   "id": "b07443dd",
   "metadata": {},
   "outputs": [],
   "source": [
    "for col in ['Age', 'Balance', 'EstimatedSalary', 'CreditScore', 'Tenure']:\n",
    "    plt.figure(figsize=(6, 3))\n",
    "    sns.boxplot(data=df_clean, x='Exited', y=col)\n",
    "    plt.title(f'{col} by Exited')\n",
    "    plt.show()"
   ]
  },
  {
   "cell_type": "markdown",
   "id": "4f41fcc1",
   "metadata": {},
   "source": [
    "### Bivariate: Numeric vs Exited (Interactive Chart With Plotly)"
   ]
  },
  {
   "cell_type": "code",
   "execution_count": null,
   "id": "e3bab5a5",
   "metadata": {},
   "outputs": [],
   "source": [
    "import plotly.express as px\n",
    "import plotly.io as pio\n",
    "\n",
    "# Show plots in your default web browser\n",
    "# pio.renderers.default = \"browser\"\n",
    "\n",
    "# OPTION 2: Show inline inside Jupyter as an iframe (interactive but inside the notebook)\n",
    "pio.renderers.default = \"notebook\"\n",
    "\n",
    "for col in ['Age', 'Balance', 'EstimatedSalary', 'CreditScore', 'Tenure']:\n",
    "    fig = px.box(\n",
    "        df_clean, \n",
    "        x=\"Exited\", \n",
    "        y=col, \n",
    "        points=\"outliers\",   # show only outliers instead of all points\n",
    "        color=\"Exited\", \n",
    "        title=f\"{col} by Exited\"\n",
    "    )\n",
    "    fig.show()\n"
   ]
  },
  {
   "cell_type": "markdown",
   "id": "d16353bb",
   "metadata": {},
   "source": [
    "### Multivariate Analysis"
   ]
  },
  {
   "cell_type": "code",
   "execution_count": null,
   "id": "d631b883",
   "metadata": {},
   "outputs": [],
   "source": [
    "# Churn by age + gender\n",
    "\n",
    "fig = px.histogram(\n",
    "    df_clean,\n",
    "    x='Age',\n",
    "    color='Gender',\n",
    "    facet_col='Exited',\n",
    "    barmode='overlay',\n",
    "    nbins=20,\n",
    "    title='Age & Gender Distribution by Churn'\n",
    ")\n",
    "\n",
    "fig.show()"
   ]
  },
  {
   "cell_type": "code",
   "execution_count": null,
   "id": "f0508cad",
   "metadata": {},
   "outputs": [],
   "source": [
    "# Churn by geography + product\n",
    "\n",
    "fig = px.histogram(\n",
    "    df_clean,\n",
    "    x='Geography',\n",
    "    color='NumOfProducts',\n",
    "    facet_col='Exited',\n",
    "    barmode='group',\n",
    "    title='Geography vs. Products by Churn'\n",
    ")\n",
    "\n",
    "fig.show()"
   ]
  },
  {
   "cell_type": "code",
   "execution_count": null,
   "id": "315148b0",
   "metadata": {},
   "outputs": [],
   "source": [
    "# Churn heatmap across multiple categorical variables\n",
    "\n",
    "cross_tab = pd.crosstab(\n",
    "    [df_clean['Geography'], df_clean['Gender']],\n",
    "    df_clean['Exited'],\n",
    "    normalize='index'\n",
    ")\n",
    "\n",
    "fig = px.imshow(\n",
    "    cross_tab,\n",
    "    text_auto=True,\n",
    "    color_continuous_scale='Reds',\n",
    "    title='Churn Rates by Geography & Gender'\n",
    ")\n",
    "\n",
    "fig.show()"
   ]
  },
  {
   "cell_type": "code",
   "execution_count": null,
   "id": "f95fc69f",
   "metadata": {},
   "outputs": [],
   "source": [
    "# Pairplot (Numerical Relationships)\n",
    "\n",
    "sns.pairplot(df_clean[['Age', 'Balance', 'EstimatedSalary', 'CreditScore', 'Exited']], hue='Exited')"
   ]
  },
  {
   "cell_type": "markdown",
   "id": "f3cd3535",
   "metadata": {},
   "source": [
    "### Corelation Heatmap"
   ]
  },
  {
   "cell_type": "code",
   "execution_count": null,
   "id": "35e95b6b",
   "metadata": {},
   "outputs": [],
   "source": [
    "corr = df_clean.select_dtypes(include=[\"int64\",\"float64\"]).corr()\n",
    "plt.figure(figsize=(10,8))\n",
    "mask = np.triu(np.ones_like(corr, dtype=bool))\n",
    "sns.heatmap(corr, mask=mask, annot=True, fmt=\".2f\", cmap=\"coolwarm\", center=0)\n",
    "plt.title(\"Correlation Heatmap\")\n",
    "plt.show()\n"
   ]
  },
  {
   "cell_type": "markdown",
   "id": "8e649920",
   "metadata": {},
   "source": [
    "### Correlation Heatmap (Plotly)"
   ]
  },
  {
   "cell_type": "code",
   "execution_count": null,
   "id": "48849892",
   "metadata": {},
   "outputs": [],
   "source": [
    "# Calculate correlation matrix\n",
    "corr = df_clean.select_dtypes(include=[\"int64\", \"float64\"]).corr()\n",
    "\n",
    "# Create interactive heatmap\n",
    "fig = px.imshow(\n",
    "    corr, \n",
    "    text_auto=\".2f\",   # show correlation values with 2 decimal places\n",
    "    color_continuous_scale=\"RdBu_r\",  # red-blue diverging colormap\n",
    "    zmin=-1, zmax=1,   # correlation ranges from -1 to 1\n",
    "    title=\"Correlation Heatmap (Interactive)\"\n",
    ")\n",
    "\n",
    "# Show the heatmap\n",
    "fig.show()\n"
   ]
  },
  {
   "cell_type": "markdown",
   "id": "a207d764",
   "metadata": {},
   "source": [
    "### Top Strongest Corelations"
   ]
  },
  {
   "cell_type": "code",
   "execution_count": null,
   "id": "3b39bc93",
   "metadata": {},
   "outputs": [],
   "source": [
    "# Flatten correlation matrix and sort\n",
    "corr_pairs = (\n",
    "    corr.where(~np.eye(corr.shape[0], dtype=bool))  # remove self-correlations (1.0)\n",
    "    .stack()                                        # turn into Series (row, col)\n",
    "    .reset_index()\n",
    ")\n",
    "corr_pairs.columns = [\"Feature 1\", \"Feature 2\", \"Correlation\"]\n",
    "\n",
    "# Sort by strongest correlations\n",
    "top_corr = corr_pairs.reindex(corr_pairs[\"Correlation\"].abs().sort_values(ascending=False).index)\n",
    "\n",
    "# Show top 10 correlations\n",
    "print(top_corr.head(10))\n"
   ]
  },
  {
   "cell_type": "markdown",
   "id": "2a914600",
   "metadata": {},
   "source": [
    "### Outlier Check"
   ]
  },
  {
   "cell_type": "code",
   "execution_count": null,
   "id": "79e00c1a",
   "metadata": {},
   "outputs": [],
   "source": [
    "def iqr_outliers(series):\n",
    "    q1 = series.quantile(0.25)\n",
    "    q3 = series.quantile(0.75)\n",
    "    iqr = q3 - q1\n",
    "    return ((series < (q1 - 1.5*iqr)) | (series > (q3 + 1.5*iqr))).sum()\n",
    "\n",
    "for col in [\"Balance\",\"EstimatedSalary\",\"CreditScore\"]:\n",
    "    print(col, \"Outliers:\", iqr_outliers(df_clean[col].dropna()))\n"
   ]
  },
  {
   "cell_type": "code",
   "execution_count": null,
   "id": "9620f66a",
   "metadata": {},
   "outputs": [],
   "source": [
    "df_clean.head()"
   ]
  },
  {
   "cell_type": "code",
   "execution_count": null,
   "id": "0dce527a",
   "metadata": {},
   "outputs": [],
   "source": []
  },
  {
   "cell_type": "markdown",
   "id": "00802415",
   "metadata": {},
   "source": [
    "### General\n",
    "\n",
    "out of 10,000 customers, 20.37% churned\n",
    "\n",
    "### Observations from Cat vs Exited (Churn)\n",
    "\n",
    "Most churners are from france and germany (almost equal, germany 814 churned, france 810)\n",
    "\n",
    "Females churn more males (although figures are almost equal, female 1132, male 905)\n",
    "\n",
    "Customers that have just 1 product churn the most, the churn amount drastically drops when a customer has 2 or more products (1049 customers with 1 product churned, 348 with 2 churned, 220 with 3 and 60 with 4)\n",
    "\n",
    "Customers with 'HasCrCard' as 1 (1424 customers) churn the most\n",
    "\n",
    "None active members churn more than active members\n",
    "\n",
    "### Observations from Numeric vs Exited (Churn)\n",
    "\n",
    "Min churn age is 18 and Max churn age is 84. 50% of churners are between 39-51. 25% of churners are above 51. Median age of churners is 45\n",
    "\n",
    "Min balance of churners is 0 and max is 250,898.1 Median is 109,349.3 50% of churners have balances betwen 37896.75 and 131,435.4\n",
    "\n",
    "50% of churners have an estimated salary between 51,898.78 and 152,429.9 Median estimated salary is 102,460.8 Min estimated salary of churners is 11.58 max estimated salary for churners is 199,808.1\n",
    "\n",
    "50% of churners have credit scores between 578 and 716. Median score of 646. 25% have scores below 578 and 25% have scores above 716\n",
    "\n",
    "Most churners have tenures between 2 and 8. Median tenure of 5\n",
    "\n",
    "### Observations from Correlation Heatmap\n",
    "\n",
    "Theres a negative correlation (-0.3) between numOfProducts and Balance\n",
    "Theres a positive correlation (0.28) between exited and age"
   ]
  },
  {
   "cell_type": "markdown",
   "id": "3b9caf07",
   "metadata": {},
   "source": [
    "# Executive Summary By Olomukoro: Customer Churn Analysis  \n",
    "\n",
    "I analyzed a dataset of **10,000 customers** to identify patterns contributing to customer churn.  \n",
    "The overall churn rate stands at **20.37%**, representing a significant segment of the customer base.  \n",
    "\n",
    "---\n",
    "\n",
    "## Key Insights  \n",
    "\n",
    "### 1. Demographic & Geographic Trends  \n",
    "- Churn is **higher among females** compared to males (**1,132 vs. 905**).  \n",
    "- Customers in **France and Germany** show the highest churn, contributing nearly equally (**814 and 810 churners**, respectively).  \n",
    "\n",
    "### 2. Product & Membership Behavior  \n",
    "- Customers with **only 1 product** are far more likely to churn (**1,049**) compared to those with multiple products  \n",
    "  - 2 products → **348 churners**  \n",
    "  - 3 products → **220 churners**  \n",
    "  - 4 products → **60 churners**  \n",
    "- **Inactive members** churn more often than active members.  \n",
    "- Customers with credit cards (`HasCrCard = 1`) represent a **higher share of churners (1,424)**.  \n",
    "\n",
    "### 3. Financial & Credit Characteristics  \n",
    "- Churners typically fall in the **mid-age range (39–51 years)**, with a **median age of 45**.  \n",
    "- **Median balance** among churners is **$109,349**, with churn spanning all balance ranges.  \n",
    "- **50% of churners** have credit scores between **578–716**, indicating mid-level risk profiles.  \n",
    "- Churn is most common among customers with **2–8 years of tenure** (median = 5 years).  \n",
    "\n",
    "### 4. Correlation Analysis  \n",
    "- **Age has a positive correlation with churn (+0.28)** → older customers are more likely to exit.  \n",
    "- **Number of products is negatively correlated with balance (-0.3)** → product engagement impacts retention.  \n",
    "\n",
    "---\n",
    "\n",
    "## Recommendations to Reduce Churn  \n",
    "\n",
    "1. **Strengthen Multi-Product Engagement**  \n",
    "   - Incentivize single-product customers to adopt additional products through targeted cross-selling and bundled offers.  \n",
    "\n",
    "2. **Target At-Risk Segments with Retention Programs**  \n",
    "   - Focus on mid-aged customers (**39–51**) and customers in **France & Germany**.  \n",
    "   - Loyalty programs, personalized offers, and proactive outreach can help stabilize these groups.  \n",
    "\n",
    "3. **Boost Customer Activity & Engagement**  \n",
    "   - Encourage inactive members to re-engage (e.g., personalized notifications, rewards for activity, digital engagement programs).  \n",
    "   - Since inactivity strongly correlates with churn, reactivation campaigns can be highly impactful.  \n",
    "\n",
    "---\n",
    "\n",
    "👉 This analysis highlights that churn is concentrated among **single-product, mid-aged, and less-engaged customers**.  \n",
    "Addressing these areas with **tailored engagement strategies, loyalty programs, and product adoption campaigns** can significantly reduce churn rates and improve customer lifetime value.  \n"
   ]
  },
  {
   "cell_type": "code",
   "execution_count": null,
   "id": "669b8451",
   "metadata": {},
   "outputs": [],
   "source": []
  }
 ],
 "metadata": {
  "kernelspec": {
   "display_name": "Python 3 (ipykernel)",
   "language": "python",
   "name": "python3"
  },
  "language_info": {
   "codemirror_mode": {
    "name": "ipython",
    "version": 3
   },
   "file_extension": ".py",
   "mimetype": "text/x-python",
   "name": "python",
   "nbconvert_exporter": "python",
   "pygments_lexer": "ipython3",
   "version": "3.11.5"
  }
 },
 "nbformat": 4,
 "nbformat_minor": 5
}
